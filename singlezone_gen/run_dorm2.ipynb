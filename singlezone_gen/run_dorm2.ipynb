{
 "cells": [
  {
   "cell_type": "code",
   "execution_count": 10,
   "metadata": {},
   "outputs": [],
   "source": [
    "from singlezone_gen import main"
   ]
  },
  {
   "cell_type": "code",
   "execution_count": 11,
   "metadata": {},
   "outputs": [],
   "source": [
    "zone_area=8.30\n",
    "zone_ratio=0.904\n",
    "zone_height=2.5\n",
    "azimuth=90\n",
    "absorptance=.5\n",
    "wall_u=4.083\n",
    "wall_ct=165.6\n",
    "ground=0\n",
    "roof=1\n",
    "shading=[0.5,0,0,0]\n",
    "living_room = False\n",
    "exp=[1,0,0,1]\n",
    "wwr=[0.198,0,0,0]\n",
    "open_fac=[0.45,0,0,0]\n",
    "glass_fs=.87\n",
    "equipment=0\n",
    "lights = 5\n",
    "bldg_ratio=0.85\n",
    "floor_height=0\n",
    "door=True #problema resolvido!\n",
    "has_hive=True\n",
    "input_file='seed.json'\n",
    "output= 'dorm2_hive_floor0_roof1.epJSON'"
   ]
  },
  {
   "cell_type": "code",
   "execution_count": 12,
   "metadata": {},
   "outputs": [
    {
     "name": "stdout",
     "output_type": "stream",
     "text": [
      "dorm2_hive_floor0_roof1.epJSON\n"
     ]
    }
   ],
   "source": [
    "main(zone_area,zone_ratio,zone_height,azimuth,absorptance,wall_u,wall_ct,ground,roof,shading,living_room,exp,wwr,open_fac,glass_fs,equipment,lights,bldg_ratio,floor_height,door,has_hive,input_file,output)"
   ]
  },
  {
   "cell_type": "code",
   "execution_count": null,
   "metadata": {},
   "outputs": [],
   "source": []
  }
 ],
 "metadata": {
  "kernelspec": {
   "display_name": "Python 3",
   "language": "python",
   "name": "python3"
  },
  "language_info": {
   "codemirror_mode": {
    "name": "ipython",
    "version": 3
   },
   "file_extension": ".py",
   "mimetype": "text/x-python",
   "name": "python",
   "nbconvert_exporter": "python",
   "pygments_lexer": "ipython3",
   "version": "3.7.0"
  }
 },
 "nbformat": 4,
 "nbformat_minor": 2
}
