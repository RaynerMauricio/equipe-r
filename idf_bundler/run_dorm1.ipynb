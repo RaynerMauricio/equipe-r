{
 "cells": [
  {
   "cell_type": "markdown",
   "metadata": {},
   "source": [
    "Esse script foi construído para utilizar a função singlezone_gen, organizando e documentando os inputs utilizados para a construção da zona térmica."
   ]
  },
  {
   "cell_type": "code",
   "execution_count": 28,
   "metadata": {},
   "outputs": [],
   "source": [
    "from singlezone_gen import main"
   ]
  },
  {
   "cell_type": "code",
   "execution_count": 35,
   "metadata": {},
   "outputs": [],
   "source": [
    "zone_area=8.85\n",
    "zone_ratio=1.179\n",
    "zone_height=2.5\n",
    "azimuth=90\n",
    "absorptance=.5\n",
    "wall_u=4.083\n",
    "wall_ct=165.6\n",
    "ground=0\n",
    "roof=0\n",
    "shading=[0,0.5,0,0]\n",
    "living_room = False\n",
    "exp=[1,1,0,0]\n",
    "wwr=[0,0.219,0,0]\n",
    "open_fac=[0,0.45,0,0]\n",
    "glass_fs=.87\n",
    "equipment=0\n",
    "lights = 5\n",
    "bldg_ratio=0.85\n",
    "floor_height=0\n",
    "door=True\n",
    "bound='hive'\n",
    "input_file='seed.json'\n",
    "output= 'dorm1_hive_floor'+str(ground)+'_roof'+str(roof)+'.epJSON'\n",
    "construction=''\n",
    "convert=True"
   ]
  },
  {
   "cell_type": "code",
   "execution_count": 36,
   "metadata": {},
   "outputs": [
    {
     "name": "stdout",
     "output_type": "stream",
     "text": [
      "dorm1_hive_floor0_roof0.epJSON\n"
     ]
    }
   ],
   "source": [
    "main(zone_area,zone_ratio,zone_height,azimuth,absorptance,wall_u,wall_ct,ground,roof,shading,living_room,exp,wwr,open_fac,glass_fs,equipment,lights,bldg_ratio,floor_height,door,bound,input_file,output)"
   ]
  },
  {
   "cell_type": "code",
   "execution_count": null,
   "metadata": {},
   "outputs": [],
   "source": []
  }
 ],
 "metadata": {
  "kernelspec": {
   "display_name": "Python 3",
   "language": "python",
   "name": "python3"
  },
  "language_info": {
   "codemirror_mode": {
    "name": "ipython",
    "version": 3
   },
   "file_extension": ".py",
   "mimetype": "text/x-python",
   "name": "python",
   "nbconvert_exporter": "python",
   "pygments_lexer": "ipython3",
   "version": "3.7.0"
  }
 },
 "nbformat": 4,
 "nbformat_minor": 2
}
